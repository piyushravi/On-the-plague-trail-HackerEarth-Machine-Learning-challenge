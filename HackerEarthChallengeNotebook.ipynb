{
 "cells": [
  {
   "cell_type": "code",
   "execution_count": 332,
   "metadata": {},
   "outputs": [
    {
     "name": "stdout",
     "output_type": "stream",
     "text": [
      "HackerMan.ipynb  firstSub.csv     secondSub.csv\r\n",
      "\u001b[34mdata\u001b[m\u001b[m             fourthSub.csv    sixthSub.csv\r\n",
      "fifthSub.csv     requirements.txt thirdSub.csv\r\n"
     ]
    }
   ],
   "source": [
    "!ls"
   ]
  },
  {
   "cell_type": "code",
   "execution_count": 333,
   "metadata": {},
   "outputs": [
    {
     "name": "stdout",
     "output_type": "stream",
     "text": [
      "HackerMan.ipynb  firstSub.csv     secondSub.csv\r\n",
      "\u001b[34mdata\u001b[m\u001b[m             fourthSub.csv    sixthSub.csv\r\n",
      "fifthSub.csv     requirements.txt thirdSub.csv\r\n"
     ]
    }
   ],
   "source": [
    "!ls"
   ]
  },
  {
   "cell_type": "code",
   "execution_count": 173,
   "metadata": {},
   "outputs": [],
   "source": [
    "import pandas as pd\n",
    "import matplotlib.pyplot as plt\n",
    "import numpy as np\n",
    "from sklearn.linear_model import LinearRegression\n",
    "import datetime"
   ]
  },
  {
   "cell_type": "code",
   "execution_count": 174,
   "metadata": {},
   "outputs": [
    {
     "data": {
      "text/html": [
       "<div>\n",
       "<style scoped>\n",
       "    .dataframe tbody tr th:only-of-type {\n",
       "        vertical-align: middle;\n",
       "    }\n",
       "\n",
       "    .dataframe tbody tr th {\n",
       "        vertical-align: top;\n",
       "    }\n",
       "\n",
       "    .dataframe thead th {\n",
       "        text-align: right;\n",
       "    }\n",
       "</style>\n",
       "<table border=\"1\" class=\"dataframe\">\n",
       "  <thead>\n",
       "    <tr style=\"text-align: right;\">\n",
       "      <th></th>\n",
       "      <th>ID</th>\n",
       "      <th>DateTime</th>\n",
       "      <th>TempOut</th>\n",
       "      <th>HiTemp</th>\n",
       "      <th>LowTemp</th>\n",
       "      <th>OutHum</th>\n",
       "      <th>DewPt</th>\n",
       "      <th>WindSpeed</th>\n",
       "      <th>WindDir</th>\n",
       "      <th>WindRun</th>\n",
       "      <th>...</th>\n",
       "      <th>WindTx</th>\n",
       "      <th>ISSRecpt</th>\n",
       "      <th>ArcInt</th>\n",
       "      <th>PA</th>\n",
       "      <th>PB</th>\n",
       "      <th>PC</th>\n",
       "      <th>PD</th>\n",
       "      <th>PE</th>\n",
       "      <th>PF</th>\n",
       "      <th>PG</th>\n",
       "    </tr>\n",
       "  </thead>\n",
       "  <tbody>\n",
       "    <tr>\n",
       "      <th>0</th>\n",
       "      <td>PR00001</td>\n",
       "      <td>07-12-2040 0:15</td>\n",
       "      <td>53.5</td>\n",
       "      <td>53.6</td>\n",
       "      <td>53.5</td>\n",
       "      <td>85</td>\n",
       "      <td>49.1</td>\n",
       "      <td>2</td>\n",
       "      <td>SSE</td>\n",
       "      <td>0.5</td>\n",
       "      <td>...</td>\n",
       "      <td>1</td>\n",
       "      <td>100.0</td>\n",
       "      <td>15</td>\n",
       "      <td>1</td>\n",
       "      <td>1</td>\n",
       "      <td>1</td>\n",
       "      <td>1</td>\n",
       "      <td>1</td>\n",
       "      <td>1</td>\n",
       "      <td>1</td>\n",
       "    </tr>\n",
       "    <tr>\n",
       "      <th>1</th>\n",
       "      <td>PR00002</td>\n",
       "      <td>07-12-2040 0:30</td>\n",
       "      <td>53.5</td>\n",
       "      <td>53.5</td>\n",
       "      <td>53.4</td>\n",
       "      <td>85</td>\n",
       "      <td>49.1</td>\n",
       "      <td>2</td>\n",
       "      <td>SSE</td>\n",
       "      <td>0.5</td>\n",
       "      <td>...</td>\n",
       "      <td>1</td>\n",
       "      <td>100.0</td>\n",
       "      <td>15</td>\n",
       "      <td>1</td>\n",
       "      <td>1</td>\n",
       "      <td>1</td>\n",
       "      <td>1</td>\n",
       "      <td>1</td>\n",
       "      <td>1</td>\n",
       "      <td>1</td>\n",
       "    </tr>\n",
       "    <tr>\n",
       "      <th>2</th>\n",
       "      <td>PR00003</td>\n",
       "      <td>07-12-2040 0:45</td>\n",
       "      <td>53.3</td>\n",
       "      <td>53.5</td>\n",
       "      <td>53.2</td>\n",
       "      <td>85</td>\n",
       "      <td>48.9</td>\n",
       "      <td>2</td>\n",
       "      <td>SSE</td>\n",
       "      <td>0.5</td>\n",
       "      <td>...</td>\n",
       "      <td>1</td>\n",
       "      <td>100.0</td>\n",
       "      <td>15</td>\n",
       "      <td>1</td>\n",
       "      <td>1</td>\n",
       "      <td>1</td>\n",
       "      <td>1</td>\n",
       "      <td>1</td>\n",
       "      <td>1</td>\n",
       "      <td>1</td>\n",
       "    </tr>\n",
       "    <tr>\n",
       "      <th>3</th>\n",
       "      <td>PR00004</td>\n",
       "      <td>07-12-2040 1:00</td>\n",
       "      <td>53.1</td>\n",
       "      <td>53.3</td>\n",
       "      <td>53.0</td>\n",
       "      <td>86</td>\n",
       "      <td>49.0</td>\n",
       "      <td>2</td>\n",
       "      <td>S</td>\n",
       "      <td>0.5</td>\n",
       "      <td>...</td>\n",
       "      <td>1</td>\n",
       "      <td>100.0</td>\n",
       "      <td>15</td>\n",
       "      <td>1</td>\n",
       "      <td>1</td>\n",
       "      <td>1</td>\n",
       "      <td>1</td>\n",
       "      <td>1</td>\n",
       "      <td>1</td>\n",
       "      <td>1</td>\n",
       "    </tr>\n",
       "    <tr>\n",
       "      <th>4</th>\n",
       "      <td>PR00005</td>\n",
       "      <td>07-12-2040 1:15</td>\n",
       "      <td>52.9</td>\n",
       "      <td>53.1</td>\n",
       "      <td>52.9</td>\n",
       "      <td>86</td>\n",
       "      <td>48.8</td>\n",
       "      <td>2</td>\n",
       "      <td>S</td>\n",
       "      <td>0.5</td>\n",
       "      <td>...</td>\n",
       "      <td>1</td>\n",
       "      <td>100.0</td>\n",
       "      <td>15</td>\n",
       "      <td>1</td>\n",
       "      <td>1</td>\n",
       "      <td>1</td>\n",
       "      <td>1</td>\n",
       "      <td>1</td>\n",
       "      <td>1</td>\n",
       "      <td>1</td>\n",
       "    </tr>\n",
       "  </tbody>\n",
       "</table>\n",
       "<p>5 rows × 37 columns</p>\n",
       "</div>"
      ],
      "text/plain": [
       "        ID         DateTime  TempOut  HiTemp  LowTemp  OutHum  DewPt  \\\n",
       "0  PR00001  07-12-2040 0:15     53.5    53.6     53.5      85   49.1   \n",
       "1  PR00002  07-12-2040 0:30     53.5    53.5     53.4      85   49.1   \n",
       "2  PR00003  07-12-2040 0:45     53.3    53.5     53.2      85   48.9   \n",
       "3  PR00004  07-12-2040 1:00     53.1    53.3     53.0      86   49.0   \n",
       "4  PR00005  07-12-2040 1:15     52.9    53.1     52.9      86   48.8   \n",
       "\n",
       "   WindSpeed WindDir  WindRun  ...  WindTx ISSRecpt  ArcInt  PA  PB  PC  PD  \\\n",
       "0          2     SSE      0.5  ...       1    100.0      15   1   1   1   1   \n",
       "1          2     SSE      0.5  ...       1    100.0      15   1   1   1   1   \n",
       "2          2     SSE      0.5  ...       1    100.0      15   1   1   1   1   \n",
       "3          2       S      0.5  ...       1    100.0      15   1   1   1   1   \n",
       "4          2       S      0.5  ...       1    100.0      15   1   1   1   1   \n",
       "\n",
       "   PE  PF  PG  \n",
       "0   1   1   1  \n",
       "1   1   1   1  \n",
       "2   1   1   1  \n",
       "3   1   1   1  \n",
       "4   1   1   1  \n",
       "\n",
       "[5 rows x 37 columns]"
      ]
     },
     "execution_count": 174,
     "metadata": {},
     "output_type": "execute_result"
    }
   ],
   "source": [
    "df = pd.read_csv(\"data/train.csv\")\n",
    "df.head()"
   ]
  },
  {
   "cell_type": "code",
   "execution_count": 175,
   "metadata": {},
   "outputs": [
    {
     "data": {
      "text/plain": [
       "0    0\n",
       "1    0\n",
       "2    0\n",
       "3    0\n",
       "4    0\n",
       "Name: PA, dtype: int64"
      ]
     },
     "execution_count": 175,
     "metadata": {},
     "output_type": "execute_result"
    }
   ],
   "source": [
    "df[\"PA\"].apply(np.log).head().apply(int)"
   ]
  },
  {
   "cell_type": "code",
   "execution_count": 176,
   "metadata": {},
   "outputs": [
    {
     "data": {
      "text/plain": [
       "0    1\n",
       "1    1\n",
       "2    1\n",
       "3    1\n",
       "4    1\n",
       "Name: PA, dtype: int64"
      ]
     },
     "execution_count": 176,
     "metadata": {},
     "output_type": "execute_result"
    }
   ],
   "source": [
    "df[\"PA\"].head()"
   ]
  },
  {
   "cell_type": "code",
   "execution_count": 177,
   "metadata": {},
   "outputs": [],
   "source": [
    "def parse(S):\n",
    "    try:\n",
    "        date_time_obj = datetime.datetime.strptime(S, \"%m-%d-%Y %H:%M\")\n",
    "    except:\n",
    "        try:\n",
    "            date_time_obj = datetime.datetime.strptime(S, \"%m/%d/%Y %H:%M\")\n",
    "            \n",
    "            \n",
    "        except:\n",
    "            try:\n",
    "                date_time_obj = datetime.datetime.strptime(S, \"%m-%d-%Y %I:%M:%S %p\")\n",
    "            except:\n",
    "                date_time_obj = datetime.datetime.strptime(S, \"%m/%d/%Y %I:%M:%S %p\")\n",
    "            \n",
    "    init = datetime.datetime.strptime(\"07-12-2040 0:15\", \"%m-%d-%Y %H:%M\")\n",
    "    return ((date_time_obj-init).total_seconds())//(15*60)\n",
    "\n",
    "df[\"ex\"] = df[\"DateTime\"].apply(parse)\n",
    "X = df[(df[\"ex\"]<40000) & (df[\"ex\"]>25000)][[\"ex\"]]\n"
   ]
  },
  {
   "cell_type": "code",
   "execution_count": 178,
   "metadata": {},
   "outputs": [
    {
     "data": {
      "text/plain": [
       "26846    3.367296\n",
       "26847    3.367296\n",
       "26848    3.367296\n",
       "26849    3.367296\n",
       "26850    3.367296\n",
       "Name: PG, dtype: float64"
      ]
     },
     "execution_count": 178,
     "metadata": {},
     "output_type": "execute_result"
    }
   ],
   "source": [
    "Ya = df[(df[\"ex\"]<40000) & (df[\"ex\"]>25000)][\"PA\"].apply(np.log)\n",
    "Yb = df[(df[\"ex\"]<40000) & (df[\"ex\"]>25000)][\"PB\"].apply(np.log)\n",
    "Yc = df[(df[\"ex\"]<40000) & (df[\"ex\"]>25000)][\"PC\"].apply(np.log)\n",
    "Yd = df[(df[\"ex\"]<40000) & (df[\"ex\"]>25000)][\"PD\"].apply(np.log)\n",
    "Ye = df[(df[\"ex\"]<40000) & (df[\"ex\"]>25000)][\"PE\"].apply(np.log)\n",
    "Yf = df[(df[\"ex\"]<40000) & (df[\"ex\"]>25000)][\"PF\"].apply(np.log)\n",
    "Yg = df[(df[\"ex\"]<40000) & (df[\"ex\"]>25000)][\"PG\"].apply(np.log)\n",
    "Yg.head()"
   ]
  },
  {
   "cell_type": "code",
   "execution_count": 179,
   "metadata": {},
   "outputs": [
    {
     "data": {
      "image/png": "[encoded data removed]",
      "text/plain": [
       "<Figure size 432x288 with 1 Axes>"
      ]
     },
     "metadata": {
      "needs_background": "light"
     },
     "output_type": "display_data"
    }
   ],
   "source": [
    "plt.plot(X, Ya)\n",
    "plt.plot(X, Yb)\n",
    "plt.plot(X, Yc)\n",
    "plt.plot(X, Yd)\n",
    "plt.plot(X, Ye)\n",
    "plt.plot(X, Yf)\n",
    "plt.plot(X, Yg)\n",
    "plt.show()"
   ]
  },
  {
   "cell_type": "code",
   "execution_count": 180,
   "metadata": {},
   "outputs": [
    {
     "data": {
      "text/plain": [
       "array([0.00021371])"
      ]
     },
     "execution_count": 180,
     "metadata": {},
     "output_type": "execute_result"
    }
   ],
   "source": [
    "reg = LinearRegression()\n",
    "reg.fit(X, Ya)\n",
    "reg.coef_"
   ]
  },
  {
   "cell_type": "code",
   "execution_count": 181,
   "metadata": {},
   "outputs": [
    {
     "data": {
      "text/plain": [
       "22446"
      ]
     },
     "execution_count": 181,
     "metadata": {},
     "output_type": "execute_result"
    }
   ],
   "source": [
    "dftest = pd.read_csv(\"data/ test.csv\")\n",
    "dfres = pd.DataFrame()\n",
    "dfres[\"ID\"] = dftest[\"ID\"]\n",
    "\n",
    "len(dftest)"
   ]
  },
  {
   "cell_type": "code",
   "execution_count": 182,
   "metadata": {},
   "outputs": [],
   "source": [
    "dftest[\"ex\"] =  dftest[\"DateTime\"].apply(parse)\n",
    "Xtest = dftest[[\"ex\"]]"
   ]
  },
  {
   "cell_type": "code",
   "execution_count": 183,
   "metadata": {},
   "outputs": [
    {
     "data": {
      "text/plain": [
       "0    2980\n",
       "1    2981\n",
       "2    2981\n",
       "3    2982\n",
       "4    2983\n",
       "Name: PA, dtype: int64"
      ]
     },
     "execution_count": 183,
     "metadata": {},
     "output_type": "execute_result"
    }
   ],
   "source": [
    "dfres[\"PA\"] = reg.predict(Xtest)\n",
    "dfres[\"PA\"] = dfres[\"PA\"].apply(np.exp).apply(int)\n",
    "dfres[\"PA\"] = dfres[\"PA\"] + 7\n",
    "dfres[\"PA\"].head()"
   ]
  },
  {
   "cell_type": "code",
   "execution_count": 184,
   "metadata": {},
   "outputs": [
    {
     "data": {
      "text/plain": [
       "array([0.00019428])"
      ]
     },
     "execution_count": 184,
     "metadata": {},
     "output_type": "execute_result"
    }
   ],
   "source": [
    "reg = LinearRegression()\n",
    "reg.fit(X, Yb)\n",
    "reg.coef_"
   ]
  },
  {
   "cell_type": "code",
   "execution_count": 185,
   "metadata": {},
   "outputs": [
    {
     "data": {
      "text/plain": [
       "0    1441\n",
       "1    1441\n",
       "2    1441\n",
       "3    1442\n",
       "4    1442\n",
       "Name: PB, dtype: int64"
      ]
     },
     "execution_count": 185,
     "metadata": {},
     "output_type": "execute_result"
    }
   ],
   "source": [
    "dfres[\"PB\"] = reg.predict(Xtest)\n",
    "dfres[\"PB\"] = dfres[\"PB\"].apply(np.exp).apply(int)\n",
    "dfres[\"PB\"] = dfres[\"PB\"] + 4\n",
    "dfres[\"PB\"].head()"
   ]
  },
  {
   "cell_type": "code",
   "execution_count": 186,
   "metadata": {},
   "outputs": [
    {
     "name": "stdout",
     "output_type": "stream",
     "text": [
      "[0.0001781]\n"
     ]
    },
    {
     "data": {
      "text/plain": [
       "0    786\n",
       "1    786\n",
       "2    786\n",
       "3    786\n",
       "4    786\n",
       "Name: PC, dtype: int64"
      ]
     },
     "execution_count": 186,
     "metadata": {},
     "output_type": "execute_result"
    }
   ],
   "source": [
    "reg = LinearRegression()\n",
    "reg.fit(X, Yc)\n",
    "print(reg.coef_)\n",
    "dfres[\"PC\"] = reg.predict(Xtest)\n",
    "dfres[\"PC\"] = dfres[\"PC\"].apply(np.exp).apply(int)\n",
    "dfres[\"PC\"] = dfres[\"PC\"] + 2\n",
    "dfres[\"PC\"].head()"
   ]
  },
  {
   "cell_type": "code",
   "execution_count": 187,
   "metadata": {},
   "outputs": [
    {
     "name": "stdout",
     "output_type": "stream",
     "text": [
      "[0.00016439]\n"
     ]
    },
    {
     "data": {
      "text/plain": [
       "0    470\n",
       "1    470\n",
       "2    470\n",
       "3    470\n",
       "4    470\n",
       "Name: PD, dtype: int64"
      ]
     },
     "execution_count": 187,
     "metadata": {},
     "output_type": "execute_result"
    }
   ],
   "source": [
    "reg = LinearRegression()\n",
    "reg.fit(X, Yd)\n",
    "print(reg.coef_)\n",
    "dfres[\"PD\"] = reg.predict(Xtest)\n",
    "dfres[\"PD\"] = dfres[\"PD\"].apply(np.exp).apply(int)\n",
    "dfres[\"PD\"] = dfres[\"PD\"] + 1\n",
    "dfres[\"PD\"].head()"
   ]
  },
  {
   "cell_type": "code",
   "execution_count": 188,
   "metadata": {},
   "outputs": [
    {
     "name": "stdout",
     "output_type": "stream",
     "text": [
      "[0.00015264]\n"
     ]
    },
    {
     "data": {
      "text/plain": [
       "0    303\n",
       "1    303\n",
       "2    303\n",
       "3    303\n",
       "4    303\n",
       "Name: PE, dtype: int64"
      ]
     },
     "execution_count": 188,
     "metadata": {},
     "output_type": "execute_result"
    }
   ],
   "source": [
    "reg = LinearRegression()\n",
    "reg.fit(X, Ye)\n",
    "print(reg.coef_)\n",
    "dfres[\"PE\"] = reg.predict(Xtest)\n",
    "dfres[\"PE\"] = dfres[\"PE\"].apply(np.exp).apply(int)\n",
    "dfres[\"PE\"] = dfres[\"PE\"] + 1\n",
    "dfres[\"PE\"].head()"
   ]
  },
  {
   "cell_type": "code",
   "execution_count": 189,
   "metadata": {},
   "outputs": [
    {
     "name": "stdout",
     "output_type": "stream",
     "text": [
      "[0.00014249]\n"
     ]
    },
    {
     "data": {
      "text/plain": [
       "0    207\n",
       "1    207\n",
       "2    207\n",
       "3    207\n",
       "4    207\n",
       "Name: PF, dtype: int64"
      ]
     },
     "execution_count": 189,
     "metadata": {},
     "output_type": "execute_result"
    }
   ],
   "source": [
    "reg = LinearRegression()\n",
    "reg.fit(X, Yf)\n",
    "print(reg.coef_)\n",
    "dfres[\"PF\"] = reg.predict(Xtest)\n",
    "dfres[\"PF\"] = dfres[\"PF\"].apply(np.exp).apply(int)\n",
    "dfres[\"PF\"] = dfres[\"PF\"] + 1\n",
    "dfres[\"PF\"].head()"
   ]
  },
  {
   "cell_type": "code",
   "execution_count": 190,
   "metadata": {},
   "outputs": [
    {
     "name": "stdout",
     "output_type": "stream",
     "text": [
      "[0.00013359]\n"
     ]
    },
    {
     "data": {
      "text/plain": [
       "0    148\n",
       "1    148\n",
       "2    148\n",
       "3    148\n",
       "4    148\n",
       "Name: PG, dtype: int64"
      ]
     },
     "execution_count": 190,
     "metadata": {},
     "output_type": "execute_result"
    }
   ],
   "source": [
    "reg = LinearRegression()\n",
    "reg.fit(X, Yg)\n",
    "print(reg.coef_)\n",
    "dfres[\"PG\"] = reg.predict(Xtest)\n",
    "dfres[\"PG\"] = dfres[\"PG\"].apply(np.exp).apply(int)\n",
    "dfres[\"PG\"] = dfres[\"PG\"] - 0\n",
    "dfres[\"PG\"].head()"
   ]
  },
  {
   "cell_type": "code",
   "execution_count": 191,
   "metadata": {},
   "outputs": [
    {
     "data": {
      "text/html": [
       "<div>\n",
       "<style scoped>\n",
       "    .dataframe tbody tr th:only-of-type {\n",
       "        vertical-align: middle;\n",
       "    }\n",
       "\n",
       "    .dataframe tbody tr th {\n",
       "        vertical-align: top;\n",
       "    }\n",
       "\n",
       "    .dataframe thead th {\n",
       "        text-align: right;\n",
       "    }\n",
       "</style>\n",
       "<table border=\"1\" class=\"dataframe\">\n",
       "  <thead>\n",
       "    <tr style=\"text-align: right;\">\n",
       "      <th></th>\n",
       "      <th>PA</th>\n",
       "      <th>PB</th>\n",
       "      <th>PC</th>\n",
       "      <th>PD</th>\n",
       "      <th>PE</th>\n",
       "      <th>PF</th>\n",
       "      <th>PG</th>\n",
       "    </tr>\n",
       "    <tr>\n",
       "      <th>ID</th>\n",
       "      <th></th>\n",
       "      <th></th>\n",
       "      <th></th>\n",
       "      <th></th>\n",
       "      <th></th>\n",
       "      <th></th>\n",
       "      <th></th>\n",
       "    </tr>\n",
       "  </thead>\n",
       "  <tbody>\n",
       "    <tr>\n",
       "      <th>PR40001</th>\n",
       "      <td>2980</td>\n",
       "      <td>1441</td>\n",
       "      <td>786</td>\n",
       "      <td>470</td>\n",
       "      <td>303</td>\n",
       "      <td>207</td>\n",
       "      <td>148</td>\n",
       "    </tr>\n",
       "    <tr>\n",
       "      <th>PR40002</th>\n",
       "      <td>2981</td>\n",
       "      <td>1441</td>\n",
       "      <td>786</td>\n",
       "      <td>470</td>\n",
       "      <td>303</td>\n",
       "      <td>207</td>\n",
       "      <td>148</td>\n",
       "    </tr>\n",
       "    <tr>\n",
       "      <th>PR40003</th>\n",
       "      <td>2981</td>\n",
       "      <td>1441</td>\n",
       "      <td>786</td>\n",
       "      <td>470</td>\n",
       "      <td>303</td>\n",
       "      <td>207</td>\n",
       "      <td>148</td>\n",
       "    </tr>\n",
       "    <tr>\n",
       "      <th>PR40004</th>\n",
       "      <td>2982</td>\n",
       "      <td>1442</td>\n",
       "      <td>786</td>\n",
       "      <td>470</td>\n",
       "      <td>303</td>\n",
       "      <td>207</td>\n",
       "      <td>148</td>\n",
       "    </tr>\n",
       "    <tr>\n",
       "      <th>PR40005</th>\n",
       "      <td>2983</td>\n",
       "      <td>1442</td>\n",
       "      <td>786</td>\n",
       "      <td>470</td>\n",
       "      <td>303</td>\n",
       "      <td>207</td>\n",
       "      <td>148</td>\n",
       "    </tr>\n",
       "  </tbody>\n",
       "</table>\n",
       "</div>"
      ],
      "text/plain": [
       "           PA    PB   PC   PD   PE   PF   PG\n",
       "ID                                          \n",
       "PR40001  2980  1441  786  470  303  207  148\n",
       "PR40002  2981  1441  786  470  303  207  148\n",
       "PR40003  2981  1441  786  470  303  207  148\n",
       "PR40004  2982  1442  786  470  303  207  148\n",
       "PR40005  2983  1442  786  470  303  207  148"
      ]
     },
     "execution_count": 191,
     "metadata": {},
     "output_type": "execute_result"
    }
   ],
   "source": [
    "dfres = dfres.set_index(\"ID\")\n",
    "dfres.head()"
   ]
  },
  {
   "cell_type": "code",
   "execution_count": 192,
   "metadata": {},
   "outputs": [],
   "source": [
    "dfres.to_csv(\"eighthSub.csv\")"
   ]
  },
  {
   "cell_type": "code",
   "execution_count": 193,
   "metadata": {},
   "outputs": [
    {
     "data": {
      "text/html": [
       "<div>\n",
       "<style scoped>\n",
       "    .dataframe tbody tr th:only-of-type {\n",
       "        vertical-align: middle;\n",
       "    }\n",
       "\n",
       "    .dataframe tbody tr th {\n",
       "        vertical-align: top;\n",
       "    }\n",
       "\n",
       "    .dataframe thead th {\n",
       "        text-align: right;\n",
       "    }\n",
       "</style>\n",
       "<table border=\"1\" class=\"dataframe\">\n",
       "  <thead>\n",
       "    <tr style=\"text-align: right;\">\n",
       "      <th></th>\n",
       "      <th>ID</th>\n",
       "      <th>PA</th>\n",
       "      <th>PB</th>\n",
       "      <th>PC</th>\n",
       "      <th>PD</th>\n",
       "      <th>PE</th>\n",
       "      <th>PF</th>\n",
       "      <th>PG</th>\n",
       "    </tr>\n",
       "  </thead>\n",
       "  <tbody>\n",
       "    <tr>\n",
       "      <th>39995</th>\n",
       "      <td>PR39996</td>\n",
       "      <td>2978</td>\n",
       "      <td>1439</td>\n",
       "      <td>785</td>\n",
       "      <td>470</td>\n",
       "      <td>303</td>\n",
       "      <td>207</td>\n",
       "      <td>148</td>\n",
       "    </tr>\n",
       "    <tr>\n",
       "      <th>39996</th>\n",
       "      <td>PR39997</td>\n",
       "      <td>2979</td>\n",
       "      <td>1439</td>\n",
       "      <td>785</td>\n",
       "      <td>470</td>\n",
       "      <td>303</td>\n",
       "      <td>207</td>\n",
       "      <td>148</td>\n",
       "    </tr>\n",
       "    <tr>\n",
       "      <th>39997</th>\n",
       "      <td>PR39998</td>\n",
       "      <td>2979</td>\n",
       "      <td>1440</td>\n",
       "      <td>785</td>\n",
       "      <td>470</td>\n",
       "      <td>303</td>\n",
       "      <td>207</td>\n",
       "      <td>148</td>\n",
       "    </tr>\n",
       "    <tr>\n",
       "      <th>39998</th>\n",
       "      <td>PR39999</td>\n",
       "      <td>2980</td>\n",
       "      <td>1440</td>\n",
       "      <td>786</td>\n",
       "      <td>470</td>\n",
       "      <td>303</td>\n",
       "      <td>207</td>\n",
       "      <td>148</td>\n",
       "    </tr>\n",
       "    <tr>\n",
       "      <th>39999</th>\n",
       "      <td>PR40000</td>\n",
       "      <td>2980</td>\n",
       "      <td>1440</td>\n",
       "      <td>786</td>\n",
       "      <td>470</td>\n",
       "      <td>303</td>\n",
       "      <td>207</td>\n",
       "      <td>148</td>\n",
       "    </tr>\n",
       "  </tbody>\n",
       "</table>\n",
       "</div>"
      ],
      "text/plain": [
       "            ID    PA    PB   PC   PD   PE   PF   PG\n",
       "39995  PR39996  2978  1439  785  470  303  207  148\n",
       "39996  PR39997  2979  1439  785  470  303  207  148\n",
       "39997  PR39998  2979  1440  785  470  303  207  148\n",
       "39998  PR39999  2980  1440  786  470  303  207  148\n",
       "39999  PR40000  2980  1440  786  470  303  207  148"
      ]
     },
     "execution_count": 193,
     "metadata": {},
     "output_type": "execute_result"
    }
   ],
   "source": [
    "df[[\"ID\", \"PA\", \"PB\", \"PC\", \"PD\", \"PE\", \"PF\", \"PG\"]].tail()"
   ]
  },
  {
   "cell_type": "code",
   "execution_count": 194,
   "metadata": {},
   "outputs": [
    {
     "data": {
      "text/plain": [
       "<matplotlib.collections.PathCollection at 0x122846f28>"
      ]
     },
     "execution_count": 194,
     "metadata": {},
     "output_type": "execute_result"
    },
    {
     "data": {
      "image/png": "[encoded data removed]",
      "text/plain": [
       "<Figure size 432x288 with 1 Axes>"
      ]
     },
     "metadata": {
      "needs_background": "light"
     },
     "output_type": "display_data"
    }
   ],
   "source": [
    "xp = list(range(22447))\n",
    "\n",
    "yp = [0]\n",
    "yp += list(dftest['ex'])\n",
    "\n",
    "\n",
    "plt.scatter(xp, yp)"
   ]
  },
  {
   "cell_type": "code",
   "execution_count": null,
   "metadata": {},
   "outputs": [],
   "source": []
  }
 ],
 "metadata": {
  "kernelspec": {
   "display_name": "Python 3",
   "language": "python",
   "name": "python3"
  },
  "language_info": {
   "codemirror_mode": {
    "name": "ipython",
    "version": 3
   },
   "file_extension": ".py",
   "mimetype": "text/x-python",
   "name": "python",
   "nbconvert_exporter": "python",
   "pygments_lexer": "ipython3",
   "version": "3.7.3"
  }
 },
 "nbformat": 4,
 "nbformat_minor": 2
}
